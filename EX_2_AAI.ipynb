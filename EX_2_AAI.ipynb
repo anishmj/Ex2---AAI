{
  "nbformat": 4,
  "nbformat_minor": 0,
  "metadata": {
    "colab": {
      "private_outputs": true,
      "provenance": []
    },
    "kernelspec": {
      "name": "python3",
      "display_name": "Python 3"
    },
    "language_info": {
      "name": "python"
    }
  },
  "cells": [
    {
      "cell_type": "code",
      "execution_count": null,
      "metadata": {
        "id": "A3lJXS5Ywzib"
      },
      "outputs": [],
      "source": [
        "pip install pgmpy"
      ]
    },
    {
      "cell_type": "code",
      "source": [
        "from pgmpy.models import BayesianNetwork\n",
        "from pgmpy.factors.discrete import TabularCPD\n",
        "from pgmpy.inference import VariableElimination"
      ],
      "metadata": {
        "id": "qhAmQ8IbWDiD"
      },
      "execution_count": null,
      "outputs": []
    },
    {
      "cell_type": "code",
      "source": [
        "network = BayesianNetwork([\n",
        "    ('Burglary','Alarm'),\n",
        "    ('EarthQuake','Alarm'),\n",
        "    ('Alarm','JohnCalls'),\n",
        "    ('Alarm','MaryCalls')\n",
        "])"
      ],
      "metadata": {
        "id": "cCi09ggvWTip"
      },
      "execution_count": null,
      "outputs": []
    },
    {
      "cell_type": "code",
      "source": [
        "cpd_burglary = TabularCPD(variable = 'Burglary',variable_card=2,values=[[0.999],[0.001]])\n",
        "cpd_earthquake = TabularCPD(variable='EarthQuake',variable_card=2,values=[[0.998],[0.002]])\n",
        "cpd_alarm = TabularCPD(variable = 'Alarm',variable_card=2,\n",
        "                       values=[[0.999,0.71,0.06,0.05],\n",
        "                               [0.01,0.29,0.94,0.95]],\n",
        "                       evidence = ['Burglary','EarthQuake'],\n",
        "                       evidence_card=[2,2])\n",
        "cpd_john_calls = TabularCPD(variable = 'JohnCalls',variable_card=2,\n",
        "                            values=[[0.95,0.1],[0.05,0.9]],\n",
        "                            evidence=['Alarm'],evidence_card=[2])\n",
        "cpd_mary_calls = TabularCPD(variable = 'MaryCalls',variable_card=2,\n",
        "                            values=[[0.99,0.3],[0.01,0.7]],\n",
        "                            evidence=['Alarm'],evidence_card=[2])\n"
      ],
      "metadata": {
        "id": "v2wTz0sZWn6Q"
      },
      "execution_count": null,
      "outputs": []
    },
    {
      "cell_type": "code",
      "source": [
        "#add cpds to the network\n",
        "\n",
        "network.add_cpds(cpd_burglary,cpd_earthquake,cpd_alarm,cpd_john_calls,cpd_mary_calls)"
      ],
      "metadata": {
        "id": "lJHbeDvqXxWc"
      },
      "execution_count": null,
      "outputs": []
    },
    {
      "cell_type": "code",
      "source": [
        "inference = VariableElimination(network)\n"
      ],
      "metadata": {
        "id": "qIwoTl5WY2zh"
      },
      "execution_count": null,
      "outputs": []
    },
    {
      "cell_type": "code",
      "source": [
        "evidence = {'JohnCalls' : 1,'MaryCalls':0} #john called 1 and mary didnt call 0\n",
        "query_variable = 'Burglary'\n",
        "result = inference.query(variables=[query_variable],evidence=evidence)"
      ],
      "metadata": {
        "id": "4SeQZKPkY7WH"
      },
      "execution_count": null,
      "outputs": []
    },
    {
      "cell_type": "code",
      "source": [
        "print(result)"
      ],
      "metadata": {
        "id": "7yZlfn4WZWEv"
      },
      "execution_count": null,
      "outputs": []
    }
  ]
}